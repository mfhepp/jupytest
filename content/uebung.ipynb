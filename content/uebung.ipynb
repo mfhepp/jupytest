{
 "cells": [
  {
   "cell_type": "markdown",
   "id": "740b4c66",
   "metadata": {
    "slideshow": {
     "slide_type": "slide"
    }
   },
   "source": [
    "# Vorlesung\n",
    "\n",
    "![Logo](logo.svg)"
   ]
  },
  {
   "cell_type": "markdown",
   "id": "18d55dc4",
   "metadata": {
    "slideshow": {
     "slide_type": "slide"
    }
   },
   "source": [
    "# Einleitung"
   ]
  },
  {
   "cell_type": "code",
   "execution_count": null,
   "id": "535e0d2e",
   "metadata": {},
   "outputs": [],
   "source": [
    "print(a + 4)"
   ]
  },
  {
   "cell_type": "markdown",
   "id": "36cb1d35",
   "metadata": {
    "slideshow": {
     "slide_type": "slide"
    }
   },
   "source": [
    "## Noch mehr\n",
    "\n",
    "genau das!\n",
    "\n",
    "1. dieses\n",
    "2. jenes"
   ]
  },
  {
   "cell_type": "markdown",
   "id": "f7fd33ee",
   "metadata": {
    "slideshow": {
     "slide_type": "slide"
    }
   },
   "source": [
    "# Vielen Dank!\n",
    "\n",
    "![Logo](logo-wow3.5.svg)"
   ]
  }
 ],
 "metadata": {
  "celltoolbar": "Slideshow",
  "jupytext": {
   "formats": "ipynb,md",
   "notebook_metadata_filter": "rise"
  },
  "kernelspec": {
   "display_name": "aih",
   "language": "python",
   "name": "aih"
  },
  "language_info": {
   "codemirror_mode": {
    "name": "ipython",
    "version": 3
   },
   "file_extension": ".py",
   "mimetype": "text/x-python",
   "name": "python",
   "nbconvert_exporter": "python",
   "pygments_lexer": "ipython3",
   "version": "3.10.5"
  },
  "rise": {
   "autolaunch": true,
   "enable_chalkboard": true,
   "footer": "<div><span style='color:#ED6E00'>Prof. Dr. Martin Hepp</span> &nbsp;&nbsp;|&nbsp;&nbsp; Universität der Bundeswehr München</div>",
   "header": "<div>Programmierung in Python: Klausur</div>",
   "slideNumber": true,
   "theme": "Simple",
   "transition": "none"
  }
 },
 "nbformat": 4,
 "nbformat_minor": 5
}
